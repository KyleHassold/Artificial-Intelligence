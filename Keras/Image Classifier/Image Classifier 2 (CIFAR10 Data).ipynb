{
 "cells": [
  {
   "cell_type": "code",
   "execution_count": 1,
   "metadata": {},
   "outputs": [
    {
     "name": "stderr",
     "output_type": "stream",
     "text": [
      "Using TensorFlow backend.\n"
     ]
    }
   ],
   "source": [
    "#Set up imports and data\n",
    "\n",
    "import tensorflow as tf\n",
    "import keras as k\n",
    "from keras.models import Sequential\n",
    "from keras.layers import Dense, Dropout, Flatten\n",
    "from keras.layers import Conv2D, MaxPooling2D\n",
    "from keras.optimizers import SGD\n",
    "import matplotlib.pyplot as plt\n",
    "import numpy as np\n",
    "\n",
    "cifar10 = k.datasets.cifar10\n",
    "\n",
    "(x_train, y_train), (x_test, y_test) = cifar10.load_data()\n",
    "x_train = k.utils.normalize(x_train, axis=1)\n",
    "x_test = k.utils.normalize(x_test, axis=1)\n",
    "y_train = k.utils.to_categorical(y_train, 10)\n",
    "y_test = k.utils.to_categorical(y_test, 10)"
   ]
  },
  {
   "cell_type": "code",
   "execution_count": 5,
   "metadata": {},
   "outputs": [
    {
     "name": "stdout",
     "output_type": "stream",
     "text": [
      "Epoch 1/5\n",
      "50000/50000 [==============================] - 85s 2ms/step - loss: 1.8596 - acc: 0.3284\n",
      "Epoch 2/5\n",
      "50000/50000 [==============================] - 83s 2ms/step - loss: 1.4070 - acc: 0.5029\n",
      "Epoch 3/5\n",
      "50000/50000 [==============================] - 84s 2ms/step - loss: 1.1995 - acc: 0.5775\n",
      "Epoch 4/5\n",
      "50000/50000 [==============================] - 84s 2ms/step - loss: 1.0580 - acc: 0.6296\n",
      "Epoch 5/5\n",
      "50000/50000 [==============================] - 84s 2ms/step - loss: 0.9388 - acc: 0.6720\n",
      "10000/10000 [==============================] - 5s 483us/step\n"
     ]
    }
   ],
   "source": [
    "#Set up Model\n",
    "\n",
    "model = Sequential()\n",
    "\n",
    "#Input images are 32*32*3\n",
    "model.add(Conv2D(32, (3,3), activation='relu', input_shape=(32,32,3)))\n",
    "model.add(Conv2D(32, (3,3), activation='relu'))\n",
    "model.add(MaxPooling2D(pool_size=(2,2)))\n",
    "model.add(Dropout(0.25))\n",
    "\n",
    "model.add(Flatten())\n",
    "model.add(Dense(256, activation='relu'))\n",
    "model.add(Dropout(0.25))\n",
    "model.add(Dense(10, activation='softmax'))\n",
    "\n",
    "sgd=SGD(lr=0.01, decay=1e-6, momentum=0.9, nesterov=True)\n",
    "model.compile(loss='categorical_crossentropy', optimizer=sgd, metrics=['accuracy'])\n",
    "\n",
    "''' \n",
    "This was an attempt to increase the number of epochs without increasing the time\n",
    "so there could be better information on the history to be graphed.\n",
    "\n",
    "This resulted in overfitting possibly due to a failure of the dropout\n",
    "function being used this way.\n",
    "final epoch = loss: 0.8878 - acc: 0.6916\n",
    "score = [1.437583959197998, 0.5143]\n",
    "\n",
    "for x in range(10):\n",
    "    ints = np.random.randint(50001, size=(100*32))\n",
    "    x_train_temp = []\n",
    "    y_train_temp = []\n",
    "    for i in ints:\n",
    "        x_train_temp.append(x_train[i])\n",
    "        y_train_temp.append(y_train[i])\n",
    "    x_train_temp = np.asarray(x_train_temp)\n",
    "    y_train_temp = np.asarray(y_train_temp)\n",
    "    model.fit(x_train_temp, y_train_temp, batch_size=32, epochs=3)\n",
    "'''\n",
    "\n",
    "#Best values: final epoch = loss: 0.9388 - acc: 0.6720 and score = loss: 1.0145 - acc: 0.6464\n",
    "model.fit(x_train, y_train, batch_size=32, epochs=5)\n",
    "score = model.evaluate(x_test, y_test, batch_size=32)"
   ]
  },
  {
   "cell_type": "code",
   "execution_count": 6,
   "metadata": {},
   "outputs": [
    {
     "name": "stdout",
     "output_type": "stream",
     "text": [
      "[1.0145130474090576, 0.6464]\n"
     ]
    }
   ],
   "source": [
    "print(score)"
   ]
  },
  {
   "cell_type": "code",
   "execution_count": null,
   "metadata": {},
   "outputs": [],
   "source": []
  }
 ],
 "metadata": {
  "kernelspec": {
   "display_name": "Python 3",
   "language": "python",
   "name": "python3"
  },
  "language_info": {
   "codemirror_mode": {
    "name": "ipython",
    "version": 3
   },
   "file_extension": ".py",
   "mimetype": "text/x-python",
   "name": "python",
   "nbconvert_exporter": "python",
   "pygments_lexer": "ipython3",
   "version": "3.6.8"
  }
 },
 "nbformat": 4,
 "nbformat_minor": 2
}
