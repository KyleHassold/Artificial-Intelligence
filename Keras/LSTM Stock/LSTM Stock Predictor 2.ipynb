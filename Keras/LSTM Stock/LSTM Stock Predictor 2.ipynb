{
 "cells": [
  {
   "cell_type": "code",
   "execution_count": 1,
   "metadata": {},
   "outputs": [
    {
     "name": "stderr",
     "output_type": "stream",
     "text": [
      "Using TensorFlow backend.\n"
     ]
    },
    {
     "data": {
      "text/plain": [
       "<Figure size 640x480 with 1 Axes>"
      ]
     },
     "metadata": {},
     "output_type": "display_data"
    }
   ],
   "source": [
    "### Imports and data ###\n",
    "\n",
    "#Imports\n",
    "import tensorflow as tf\n",
    "import keras as k\n",
    "from keras.models import Sequential\n",
    "from keras.layers import Dense, Dropout, LSTM\n",
    "from keras.optimizers import SGD\n",
    "import matplotlib.pyplot as plt\n",
    "import numpy as np\n",
    "\n",
    "import datetime as dt\n",
    "import matplotlib as style\n",
    "import pandas_datareader.data as web\n",
    "from sklearn.preprocessing import MinMaxScaler\n",
    "\n",
    "#Get Data from yahoo\n",
    "\n",
    "start = dt.datetime(2000,1,1)\n",
    "end = dt.datetime(2016,12,31)\n",
    "shift = 100\n",
    "df = web.DataReader('AAPL', 'yahoo', start, end)[['Close']]\n",
    "df =df.values.reshape(len(df), 1)\n",
    "plt.plot(df)\n",
    "plt.show()"
   ]
  },
  {
   "cell_type": "code",
   "execution_count": 2,
   "metadata": {},
   "outputs": [],
   "source": [
    "scaler = MinMaxScaler(feature_range=(0,1))\n",
    "df = scaler.fit_transform(df)"
   ]
  },
  {
   "cell_type": "code",
   "execution_count": 3,
   "metadata": {},
   "outputs": [],
   "source": [
    "data_split = 0.8\n",
    "train_data = df[:int(len(df)*data_split)]\n",
    "test_data = df[int(len(df)*data_split):]"
   ]
  },
  {
   "cell_type": "code",
   "execution_count": 4,
   "metadata": {},
   "outputs": [],
   "source": [
    "def create_ts(ds, inLen, outLen):\n",
    "    X, Y = [], []\n",
    "    totLen = inLen+outLen\n",
    "    for i in range(len(ds)-totLen-1):\n",
    "        X.append(ds[i:(i+inLen), 0])\n",
    "        Y.append(ds[(i+inLen):(i+totLen), 0])\n",
    "    return np.array(X), np.array(Y)\n",
    "\n",
    "in_series = 100\n",
    "out_series = 22\n",
    "\n",
    "x_train, y_train = create_ts(train_data, in_series, out_series)\n",
    "x_test, y_test = create_ts(test_data, in_series, out_series)"
   ]
  },
  {
   "cell_type": "code",
   "execution_count": 5,
   "metadata": {},
   "outputs": [
    {
     "name": "stdout",
     "output_type": "stream",
     "text": [
      "(3298, 100, 1)\n",
      "(3298, 22)\n",
      "(733, 100, 1)\n",
      "(733, 22)\n"
     ]
    }
   ],
   "source": [
    "x_train = np.reshape(x_train, (x_train.shape[0], x_train.shape[1], 1))\n",
    "x_test = np.reshape(x_test, (x_test.shape[0], x_test.shape[1], 1))\n",
    "\n",
    "print(x_train.shape)\n",
    "print(y_train.shape)\n",
    "print(x_test.shape)\n",
    "print(y_test.shape)"
   ]
  },
  {
   "cell_type": "code",
   "execution_count": 6,
   "metadata": {},
   "outputs": [],
   "source": [
    "model = Sequential()\n",
    "\n",
    "model.add(LSTM(30, input_shape=(in_series, 1), activation='relu', return_sequences=True))\n",
    "model.add(LSTM(15, activation='relu'))\n",
    "model.add(Dense(22, activation='linear'))\n",
    "model.compile(loss='mse', optimizer='adam')\n",
    "\n",
    "model2 = Sequential()\n",
    "\n",
    "model2.add(LSTM(4, input_shape=(in_series, 1)))\n",
    "model2.add(Dense(22))\n",
    "model2.compile(loss='mse', optimizer='adam')"
   ]
  },
  {
   "cell_type": "code",
   "execution_count": 7,
   "metadata": {},
   "outputs": [
    {
     "name": "stdout",
     "output_type": "stream",
     "text": [
      "Epoch 1/25\n",
      "3298/3298 [==============================] - 6s 2ms/step - loss: 0.0376\n",
      "Epoch 2/25\n",
      "3298/3298 [==============================] - 5s 2ms/step - loss: 0.0059\n",
      "Epoch 3/25\n",
      "3298/3298 [==============================] - 5s 2ms/step - loss: 7.8952e-04\n",
      "Epoch 4/25\n",
      "3298/3298 [==============================] - 5s 2ms/step - loss: 5.4218e-04\n",
      "Epoch 5/25\n",
      "3298/3298 [==============================] - 5s 2ms/step - loss: 4.9701e-04\n",
      "Epoch 6/25\n",
      "3298/3298 [==============================] - 6s 2ms/step - loss: 4.7533e-04\n",
      "Epoch 7/25\n",
      "3298/3298 [==============================] - 5s 2ms/step - loss: 4.5114e-04\n",
      "Epoch 8/25\n",
      "3298/3298 [==============================] - 5s 2ms/step - loss: 4.2926e-04\n",
      "Epoch 9/25\n",
      "3298/3298 [==============================] - 5s 2ms/step - loss: 4.1966e-04\n",
      "Epoch 10/25\n",
      "3298/3298 [==============================] - 5s 2ms/step - loss: 4.0152e-04\n",
      "Epoch 11/25\n",
      "3298/3298 [==============================] - 5s 2ms/step - loss: 3.9503e-04\n",
      "Epoch 12/25\n",
      "3298/3298 [==============================] - 5s 2ms/step - loss: 4.0659e-04\n",
      "Epoch 13/25\n",
      "3298/3298 [==============================] - 5s 2ms/step - loss: 3.5469e-04\n",
      "Epoch 14/25\n",
      "3298/3298 [==============================] - 5s 2ms/step - loss: 0.0056\n",
      "Epoch 15/25\n",
      "3298/3298 [==============================] - 6s 2ms/step - loss: 4.6289e-04\n",
      "Epoch 16/25\n",
      "3298/3298 [==============================] - 5s 2ms/step - loss: 4.1476e-04\n",
      "Epoch 17/25\n",
      "3298/3298 [==============================] - 5s 2ms/step - loss: 3.9550e-04\n",
      "Epoch 18/25\n",
      "3298/3298 [==============================] - 6s 2ms/step - loss: 3.8552e-04A: 0s - loss: 3.900\n",
      "Epoch 19/25\n",
      "3298/3298 [==============================] - 6s 2ms/step - loss: 3.7466e-04\n",
      "Epoch 20/25\n",
      "3298/3298 [==============================] - 6s 2ms/step - loss: 3.6446e-04\n",
      "Epoch 21/25\n",
      "3298/3298 [==============================] - 6s 2ms/step - loss: 3.5316e-04\n",
      "Epoch 22/25\n",
      "3298/3298 [==============================] - 6s 2ms/step - loss: 3.7713e-04\n",
      "Epoch 23/25\n",
      "3298/3298 [==============================] - 6s 2ms/step - loss: 3.3818e-04\n",
      "Epoch 24/25\n",
      "3298/3298 [==============================] - 6s 2ms/step - loss: 3.3872e-04\n",
      "Epoch 25/25\n",
      "3298/3298 [==============================] - 6s 2ms/step - loss: 3.4138e-04\n",
      "Epoch 1/25\n",
      "3298/3298 [==============================] - 3s 1ms/step - loss: 0.0488\n",
      "Epoch 2/25\n",
      "3298/3298 [==============================] - 3s 896us/step - loss: 0.0229\n",
      "Epoch 3/25\n",
      "3298/3298 [==============================] - 3s 937us/step - loss: 0.0072\n",
      "Epoch 4/25\n",
      "3298/3298 [==============================] - 3s 906us/step - loss: 0.0024\n",
      "Epoch 5/25\n",
      "3298/3298 [==============================] - 3s 876us/step - loss: 0.0012\n",
      "Epoch 6/25\n",
      "3298/3298 [==============================] - 3s 874us/step - loss: 7.9378e-04\n",
      "Epoch 7/25\n",
      "3298/3298 [==============================] - 3s 873us/step - loss: 6.6601e-04\n",
      "Epoch 8/25\n",
      "3298/3298 [==============================] - 3s 890us/step - loss: 5.8372e-04\n",
      "Epoch 9/25\n",
      "3298/3298 [==============================] - 3s 877us/step - loss: 5.2799e-04\n",
      "Epoch 10/25\n",
      "3298/3298 [==============================] - 3s 875us/step - loss: 4.9881e-04\n",
      "Epoch 11/25\n",
      "3298/3298 [==============================] - 3s 880us/step - loss: 4.6227e-04\n",
      "Epoch 12/25\n",
      "3298/3298 [==============================] - 3s 903us/step - loss: 4.3805e-04\n",
      "Epoch 13/25\n",
      "3298/3298 [==============================] - 3s 881us/step - loss: 4.2457e-04\n",
      "Epoch 14/25\n",
      "3298/3298 [==============================] - 3s 912us/step - loss: 4.1296e-04\n",
      "Epoch 15/25\n",
      "3298/3298 [==============================] - 3s 886us/step - loss: 4.0699e-04\n",
      "Epoch 16/25\n",
      "3298/3298 [==============================] - 3s 880us/step - loss: 3.8421e-04\n",
      "Epoch 17/25\n",
      "3298/3298 [==============================] - 3s 880us/step - loss: 3.7643e-04\n",
      "Epoch 18/25\n",
      "3298/3298 [==============================] - 3s 872us/step - loss: 3.7140e-04\n",
      "Epoch 19/25\n",
      "3298/3298 [==============================] - 3s 893us/step - loss: 3.6334e-04\n",
      "Epoch 20/25\n",
      "3298/3298 [==============================] - 3s 879us/step - loss: 3.5804e-04\n",
      "Epoch 21/25\n",
      "3298/3298 [==============================] - 3s 878us/step - loss: 3.5409e-04\n",
      "Epoch 22/25\n",
      "3298/3298 [==============================] - 3s 876us/step - loss: 3.5075e-04\n",
      "Epoch 23/25\n",
      "3298/3298 [==============================] - 3s 873us/step - loss: 3.4521e-04\n",
      "Epoch 24/25\n",
      "3298/3298 [==============================] - 3s 880us/step - loss: 3.4144e-04\n",
      "Epoch 25/25\n",
      "3298/3298 [==============================] - 3s 899us/step - loss: 3.3818e-04\n"
     ]
    },
    {
     "data": {
      "text/plain": [
       "<keras.callbacks.History at 0x2122f089d68>"
      ]
     },
     "execution_count": 7,
     "metadata": {},
     "output_type": "execute_result"
    }
   ],
   "source": [
    "model.fit(x_train, y_train, epochs=25, batch_size=32)\n",
    "model2.fit(x_train, y_train, epochs=25, batch_size=32)"
   ]
  },
  {
   "cell_type": "code",
   "execution_count": 8,
   "metadata": {},
   "outputs": [],
   "source": [
    "pred1 = model.predict(x_test)\n",
    "pred2 = model2.predict(x_test)\n",
    "pred1 = scaler.inverse_transform(pred1)\n",
    "pred2 = scaler.inverse_transform(pred2)\n",
    "y_test = scaler.inverse_transform(y_test)"
   ]
  },
  {
   "cell_type": "code",
   "execution_count": 9,
   "metadata": {},
   "outputs": [
    {
     "name": "stdout",
     "output_type": "stream",
     "text": [
      "[76.00662  75.65797  76.33334  75.80604  75.63681  75.19221  75.39058\n",
      " 75.96483  75.48859  75.56715  76.00835  75.51947  75.124825 76.11641\n",
      " 75.8203   75.78669  75.93025  76.00475  75.32234  75.49738  75.5145\n",
      " 76.35699 ]\n",
      "[75.2485733  75.91428375 75.89428711 75.52857208 76.12428284 77.02714539\n",
      " 77.85571289 77.11142731 76.77999878 76.69428253 76.67713928 77.37857056\n",
      " 77.50714111 76.97000122 75.97428894 74.78142548 74.77714539 75.76000214\n",
      " 74.7828598  74.23000336 74.52571106 73.99428558]\n",
      "[ 0.75804901 -0.25631714  0.4390564   0.27746582 -0.48747253 -1.83493805\n",
      " -2.46513367 -1.14659882 -1.29141235 -1.12713623 -0.66879272 -1.85910034\n",
      " -2.38231659 -0.85359192 -0.1539917   1.00526428  1.15310669  0.24475098\n",
      "  0.53948212  1.26737976  0.98879242  2.36270142]\n"
     ]
    }
   ],
   "source": [
    "print(pred1[50])\n",
    "print(y_test[50])\n",
    "print(pred1[50]-y_test[50])"
   ]
  },
  {
   "cell_type": "code",
   "execution_count": 10,
   "metadata": {},
   "outputs": [
    {
     "data": {
      "image/png": "[encoded data removed]",
      "text/plain": [
       "<Figure size 432x288 with 1 Axes>"
      ]
     },
     "metadata": {
      "needs_background": "light"
     },
     "output_type": "display_data"
    }
   ],
   "source": [
    "plt.plot(pred1[:,10], color='blue')\n",
    "plt.plot(pred2[:,10], color='red')\n",
    "plt.plot(y_test[:,10], color='green')\n",
    "plt.show()"
   ]
  },
  {
   "cell_type": "code",
   "execution_count": null,
   "metadata": {},
   "outputs": [],
   "source": []
  }
 ],
 "metadata": {
  "kernelspec": {
   "display_name": "Python 3",
   "language": "python",
   "name": "python3"
  },
  "language_info": {
   "codemirror_mode": {
    "name": "ipython",
    "version": 3
   },
   "file_extension": ".py",
   "mimetype": "text/x-python",
   "name": "python",
   "nbconvert_exporter": "python",
   "pygments_lexer": "ipython3",
   "version": "3.6.8"
  }
 },
 "nbformat": 4,
 "nbformat_minor": 2
}
