{
 "cells": [
  {
   "cell_type": "code",
   "execution_count": 24,
   "metadata": {},
   "outputs": [
    {
     "name": "stdout",
     "output_type": "stream",
     "text": [
      "                High       Low      Open     Close       Volume  Adj Close\n",
      "Date                                                                      \n",
      "2000-01-03  4.017857  3.631696  3.745536  3.997768  133949200.0   2.665724\n",
      "(4277, 6)\n",
      "[4.01785707e+00 3.63169646e+00 3.74553561e+00 3.99776793e+00\n",
      " 1.33949200e+08 2.66572404e+00]\n"
     ]
    }
   ],
   "source": [
    "import datetime as dt\n",
    "import matplotlib as style\n",
    "import pandas_datareader.data as web\n",
    "\n",
    "style.use('svg')\n",
    "\n",
    "start = dt.datetime(2000,1,1)\n",
    "end = dt.datetime(2016,12,31)\n",
    "\n",
    "df = web.DataReader('AAPL', 'yahoo', start, end)\n",
    "\n",
    "print(df.head(1))\n",
    "print(df.shape)\n",
    "print(df.values[0])"
   ]
  },
  {
   "cell_type": "code",
   "execution_count": null,
   "metadata": {},
   "outputs": [],
   "source": []
  }
 ],
 "metadata": {
  "kernelspec": {
   "display_name": "Python 3",
   "language": "python",
   "name": "python3"
  },
  "language_info": {
   "codemirror_mode": {
    "name": "ipython",
    "version": 3
   },
   "file_extension": ".py",
   "mimetype": "text/x-python",
   "name": "python",
   "nbconvert_exporter": "python",
   "pygments_lexer": "ipython3",
   "version": "3.6.8"
  }
 },
 "nbformat": 4,
 "nbformat_minor": 2
}
